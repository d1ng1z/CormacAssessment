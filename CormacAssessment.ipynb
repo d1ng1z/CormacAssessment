{
  "nbformat": 4,
  "nbformat_minor": 0,
  "metadata": {
    "colab": {
      "name": "CormacAssessment.ipynb",
      "provenance": []
    },
    "kernelspec": {
      "name": "python3",
      "display_name": "Python 3"
    },
    "language_info": {
      "name": "python"
    }
  },
  "cells": [
    {
      "cell_type": "code",
      "metadata": {
        "colab": {
          "base_uri": "https://localhost:8080/"
        },
        "id": "R7TTNw1zR53j",
        "outputId": "31fa40cb-5ac3-4ab8-8fee-e81cd95d633a"
      },
      "source": [
        "#imports\n",
        "!pip3 install pandas==1.1.0\n",
        "\n",
        "import pandas as pd\n",
        "import numpy as np \n",
        "\n",
        "import matplotlib\n",
        "import matplotlib.pyplot as plt\n",
        "\n",
        "import sklearn\n",
        "from sklearn.model_selection import train_test_split\n",
        "from sklearn.ensemble import RandomForestRegressor\n",
        "from sklearn.model_selection import GridSearchCV\n",
        "from sklearn.ensemble import RandomForestClassifier\n",
        "from sklearn.decomposition import PCA\n",
        "from sklearn.preprocessing import StandardScaler\n",
        "\n",
        "#import cms_procedures\n"
      ],
      "execution_count": null,
      "outputs": [
        {
          "output_type": "stream",
          "text": [
            "Requirement already satisfied: pandas==1.1.0 in /usr/local/lib/python3.7/dist-packages (1.1.0)\n",
            "Requirement already satisfied: numpy>=1.15.4 in /usr/local/lib/python3.7/dist-packages (from pandas==1.1.0) (1.19.5)\n",
            "Requirement already satisfied: pytz>=2017.2 in /usr/local/lib/python3.7/dist-packages (from pandas==1.1.0) (2018.9)\n",
            "Requirement already satisfied: python-dateutil>=2.7.3 in /usr/local/lib/python3.7/dist-packages (from pandas==1.1.0) (2.8.1)\n",
            "Requirement already satisfied: six>=1.5 in /usr/local/lib/python3.7/dist-packages (from python-dateutil>=2.7.3->pandas==1.1.0) (1.15.0)\n",
            "Collecting kneed\n",
            "  Downloading https://files.pythonhosted.org/packages/c3/6b/e130913aaaad1373060e259ab222ca2330672db696b297b082c3f3089fcc/kneed-0.7.0-py2.py3-none-any.whl\n",
            "Requirement already satisfied: numpy>=1.14.2 in /usr/local/lib/python3.7/dist-packages (from kneed) (1.19.5)\n",
            "Requirement already satisfied: matplotlib in /usr/local/lib/python3.7/dist-packages (from kneed) (3.2.2)\n",
            "Requirement already satisfied: scipy in /usr/local/lib/python3.7/dist-packages (from kneed) (1.4.1)\n",
            "Requirement already satisfied: cycler>=0.10 in /usr/local/lib/python3.7/dist-packages (from matplotlib->kneed) (0.10.0)\n",
            "Requirement already satisfied: pyparsing!=2.0.4,!=2.1.2,!=2.1.6,>=2.0.1 in /usr/local/lib/python3.7/dist-packages (from matplotlib->kneed) (2.4.7)\n",
            "Requirement already satisfied: python-dateutil>=2.1 in /usr/local/lib/python3.7/dist-packages (from matplotlib->kneed) (2.8.1)\n",
            "Requirement already satisfied: kiwisolver>=1.0.1 in /usr/local/lib/python3.7/dist-packages (from matplotlib->kneed) (1.3.1)\n",
            "Requirement already satisfied: six in /usr/local/lib/python3.7/dist-packages (from cycler>=0.10->matplotlib->kneed) (1.15.0)\n",
            "Installing collected packages: kneed\n",
            "Successfully installed kneed-0.7.0\n"
          ],
          "name": "stdout"
        }
      ]
    },
    {
      "cell_type": "code",
      "metadata": {
        "id": "_N39xW1tUP9n"
      },
      "source": [
        "#defining the features and labels used by the classifier\n",
        "label = CMS_data['Outcome']\n",
        "\n",
        "features = CMS_data.drop(['Outcome'], axis  = 1)\n",
        "#splitting the dataset into train and test sets (80/20 split)\n",
        "x_train, x_test, y_train, y_test = train_test_split(features, label, test_size=0.20, random_state= 55)"
      ],
      "execution_count": null,
      "outputs": []
    },
    {
      "cell_type": "code",
      "metadata": {
        "id": "7tevdLV1UQSF"
      },
      "source": [
        "#dimensionality reduction using PCA\n",
        "#instantiating PCA and fitting it to training data\n",
        "pca = PCA()\n",
        "pca.fit(x_train)\n",
        "#to find optimal # of components, use components vs explained variance graph \n",
        "pc_vs_variance = np.cumsum(pca.explained_variance_ratio_)\n",
        "\n",
        "pc_vs_variance\n",
        "plt.plot(pc_vs_variance)\n"
      ],
      "execution_count": null,
      "outputs": []
    },
    {
      "cell_type": "code",
      "metadata": {
        "id": "JEZqJbuXUQlP"
      },
      "source": [
        "pca = PCA(n_components=4)\n",
        "pca.fit(x_train)\n",
        "\n",
        "\n",
        "# and transform it\n",
        "x_train = pca.transform(x_train)\n",
        "x_test = pca.transform(x_test)"
      ],
      "execution_count": null,
      "outputs": []
    },
    {
      "cell_type": "code",
      "metadata": {
        "id": "YOGvfSVrUQ0S"
      },
      "source": [
        "#Using grid search cross validation to find the optimal max depth\n",
        "#define a list of possible hyperparameter values, as well as RF Regressor\n",
        "max_depth = [2,4,7]\n",
        "clf = RandomForestRegressor()\n",
        "hyperParam = {'max_depth': max_depth}\n",
        "\n",
        "\n",
        "#create the grid search\n",
        "gsv = GridSearchCV(clf,hyperParam,cv=5,verbose=0,scoring='r2',n_jobs=1)\n",
        "\n",
        "gsv.fit(x_train, y_train)\n",
        "\n",
        "#optimal depth of trees\n",
        "best_depth = gsv.best_params_"
      ],
      "execution_count": null,
      "outputs": []
    },
    {
      "cell_type": "code",
      "metadata": {
        "id": "adScg44pURAA"
      },
      "source": [
        "#creating RF model and fitting it to the training data\n",
        "rf = RandomForestRegressor(n_estimators = 140, max_depth=best_depth)\n",
        "rf.fit(x_train, y_train)"
      ],
      "execution_count": null,
      "outputs": []
    },
    {
      "cell_type": "code",
      "metadata": {
        "id": "eacpsEv9fuLg"
      },
      "source": [
        "def predict(procedure, rf_model):\n",
        "    '''Given a particular procedure and Random Forest model as trained above,\n",
        "    this function will predict the outcome of the procedure'''\n",
        "    return rf_model.predict(procedure)"
      ],
      "execution_count": null,
      "outputs": []
    }
  ]
}